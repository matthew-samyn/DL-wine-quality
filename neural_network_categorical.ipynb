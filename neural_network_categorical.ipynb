{
 "cells": [
  {
   "cell_type": "code",
   "execution_count": 69,
   "source": [
    "import numpy as np\r\n",
    "import pandas as pd\r\n",
    "from sklearn.preprocessing import StandardScaler\r\n",
    "from sklearn.model_selection import train_test_split\r\n",
    "import tensorflow as tf\r\n",
    "from tensorflow import keras\r\n",
    "from tensorflow.keras.models import Sequential # model\r\n",
    "from tensorflow.keras.layers import Activation, Dense, LeakyReLU # Type of layers\r\n",
    "from tensorflow.keras.optimizers import Adam\r\n",
    "from tensorflow.keras.metrics import categorical_crossentropy\r\n",
    "from utils.functions import *\r\n",
    "from sklearn.metrics import confusion_matrix\r\n",
    "from imblearn.over_sampling import SMOTE\r\n",
    "from keras.callbacks import EarlyStopping\r\n",
    "from keras.callbacks import ModelCheckpoint\r\n",
    "from tensorflow.keras.models import load_model\r\n",
    "import seaborn as sns\r\n",
    "import matplotlib.pyplot as plt"
   ],
   "outputs": [],
   "metadata": {
    "collapsed": true
   }
  },
  {
   "cell_type": "code",
   "execution_count": 70,
   "source": [
    "physical_devices = tf.config.experimental.list_physical_devices(\"GPU\")\r\n",
    "print(\"NUM GPUs Available: \", len(physical_devices))\r\n",
    "tf.config.experimental.set_memory_growth(physical_devices[0], True)"
   ],
   "outputs": [
    {
     "output_type": "stream",
     "name": "stdout",
     "text": [
      "NUM GPUs Available:  1\n"
     ]
    }
   ],
   "metadata": {
    "collapsed": false,
    "pycharm": {
     "name": "#%%\n"
    }
   }
  },
  {
   "cell_type": "code",
   "execution_count": 71,
   "source": [
    "df = pd.read_csv(\"assignment-files/wine.csv\", index_col=\"index\")\r\n",
    "print(df.columns)\r\n",
    "print(df.shape)\r\n",
    "df = df.drop_duplicates()\r\n",
    "print(df.shape)"
   ],
   "outputs": [
    {
     "output_type": "stream",
     "name": "stdout",
     "text": [
      "Index(['fixed acidity', 'volatile acidity', 'citric acid', 'residual sugar',\n",
      "       'chlorides', 'free sulfur dioxide', 'total sulfur dioxide', 'density',\n",
      "       'pH', 'sulphates', 'alcohol', 'quality', 'colour', 'target'],\n",
      "      dtype='object')\n",
      "(6497, 14)\n",
      "(5320, 14)\n"
     ]
    }
   ],
   "metadata": {
    "collapsed": false,
    "pycharm": {
     "name": "#%%\n"
    }
   }
  },
  {
   "cell_type": "code",
   "execution_count": 72,
   "source": [
    "y = df[\"target\"].values\r\n",
    "X = df.drop([\"quality\",\"target\"], axis=1).values\r\n",
    "X_train, X_test, y_train, y_test = train_test_split(X,y,test_size=.2, stratify=y, shuffle=True)"
   ],
   "outputs": [],
   "metadata": {
    "collapsed": false,
    "pycharm": {
     "name": "#%%\n"
    }
   }
  },
  {
   "cell_type": "code",
   "execution_count": 73,
   "source": [
    "\r\n",
    "\r\n",
    "smote = SMOTE(random_state=42, k_neighbors=2)\r\n",
    "X_train_smote, y_train_smote = smote.fit_resample(X_train, y_train)"
   ],
   "outputs": [],
   "metadata": {
    "collapsed": false,
    "pycharm": {
     "name": "#%%\n"
    }
   }
  },
  {
   "cell_type": "code",
   "execution_count": 74,
   "source": [
    "# COACHES NOTES: This for-loop works but seems a bit unnecessary for the plot. Is it mainly so the x-axis has labels good and bad?\r\n",
    "plot_lst = []\r\n",
    "for x in y_train_smote:\r\n",
    "    x = binary_to_text(x)\r\n",
    "    plot_lst.append(x)\r\n",
    "\r\n",
    "sns.set_style(\"darkgrid\")\r\n",
    "sns.countplot(x=plot_lst)\r\n",
    "plt.xlabel(\"Target\")\r\n",
    "plt.title(\"Distribution of data points\")\r\n",
    "plt.savefig(\"visuals/even_data.png\", bbox_inches=\"tight\")\r\n",
    "plt.show()"
   ],
   "outputs": [
    {
     "output_type": "display_data",
     "data": {
      "image/png": "[encoded data removed]",
      "text/plain": [
       "<Figure size 432x288 with 1 Axes>"
      ]
     },
     "metadata": {}
    }
   ],
   "metadata": {
    "collapsed": false,
    "pycharm": {
     "name": "#%%\n"
    }
   }
  },
  {
   "cell_type": "code",
   "execution_count": 75,
   "source": [
    "scaler = StandardScaler().fit(X_train)\r\n",
    "X_train_smote = scaler.transform(X_train_smote)\r\n",
    "X_test = scaler.transform(X_test)"
   ],
   "outputs": [],
   "metadata": {
    "collapsed": false,
    "pycharm": {
     "name": "#%%\n"
    }
   }
  },
  {
   "cell_type": "code",
   "execution_count": null,
   "source": [
    "layer = Dense(units=20, activation=\"relu\")\r\n",
    "model = Sequential([\r\n",
    "    Dense(units=10, activation=\"relu\", input_shape=(12,)),\r\n",
    "    layer,\r\n",
    "    Dense(units=40, activation=\"relu\"),\r\n",
    "    Dense(units=2, activation=\"softmax\")\r\n",
    "])\r\n",
    "# 20 40 10 2"
   ],
   "outputs": [],
   "metadata": {
    "collapsed": false,
    "pycharm": {
     "name": "#%%\n"
    }
   }
  },
  {
   "cell_type": "code",
   "execution_count": null,
   "source": [
    "es = EarlyStopping(monitor='val_loss', mode='min', verbose=1, patience=50)\r\n",
    "mc = ModelCheckpoint('best_model_balanced.h5', monitor='val_accuracy', mode='max', verbose=1, save_best_only=True)"
   ],
   "outputs": [],
   "metadata": {
    "collapsed": false,
    "pycharm": {
     "name": "#%%\n"
    }
   }
  },
  {
   "cell_type": "code",
   "execution_count": null,
   "source": [
    "learning_rate = 0.0005\r\n",
    "loss = \"sparse_categorical_crossentropy\"\r\n",
    "metrics = \"accuracy\"\r\n",
    "model.compile(optimizer=Adam(learning_rate=learning_rate),\r\n",
    "                             loss=loss, metrics=metrics)"
   ],
   "outputs": [],
   "metadata": {
    "collapsed": false,
    "pycharm": {
     "name": "#%%\n"
    }
   }
  },
  {
   "cell_type": "code",
   "execution_count": null,
   "source": [
    "history = model.fit(x=X_train_smote, y=y_train_smote, batch_size=5,\r\n",
    "                    epochs=500, verbose=0, validation_split=0.4,\r\n",
    "                    callbacks=[es, mc])"
   ],
   "outputs": [],
   "metadata": {
    "collapsed": false,
    "pycharm": {
     "name": "#%%\n"
    }
   }
  },
  {
   "cell_type": "code",
   "execution_count": null,
   "source": [
    "# model.save(\"models/categorical_.h5\")"
   ],
   "outputs": [],
   "metadata": {
    "collapsed": false,
    "pycharm": {
     "name": "#%%\n"
    }
   }
  },
  {
   "cell_type": "code",
   "execution_count": 59,
   "source": [
    "best_val_model = load_model(\"best_model_balanced.h5\")"
   ],
   "outputs": [],
   "metadata": {
    "collapsed": false,
    "pycharm": {
     "name": "#%%\n"
    }
   }
  },
  {
   "cell_type": "code",
   "execution_count": 60,
   "source": [
    "predictions = best_val_model.predict(x=X_test, batch_size=100)\r\n",
    "rounded_predictions = np.argmax(predictions, axis=-1)\r\n",
    "cm = confusion_matrix(y_test,rounded_predictions)\r\n",
    "plot_labels = [\"bad\",\"good\"]"
   ],
   "outputs": [],
   "metadata": {
    "collapsed": false,
    "pycharm": {
     "name": "#%%\n"
    }
   }
  },
  {
   "cell_type": "code",
   "execution_count": 76,
   "source": [
    "results = best_val_model.evaluate(X_test, y_test, batch_size=500, verbose=0)\r\n",
    "print(\"test loss, test acc:\", results)\r\n",
    "print(y_test.shape)\r\n",
    "plot_confusion_matrix(cm=cm, classes=plot_labels,\r\n",
    "                      title= \"CM, using categorical data\",\r\n",
    "                      savefig_location=\"visuals/cm_best_balanced\")"
   ],
   "outputs": [
    {
     "output_type": "stream",
     "name": "stdout",
     "text": [
      "test loss, test acc: [0.49256953597068787, 0.7706766724586487]\n",
      "(1064,)\n"
     ]
    },
    {
     "output_type": "display_data",
     "data": {
      "text/plain": [
       "<Figure size 1008x1008 with 0 Axes>"
      ]
     },
     "metadata": {}
    },
    {
     "output_type": "display_data",
     "data": {
      "image/png": "[encoded data removed]",
      "text/plain": [
       "<Figure size 432x288 with 2 Axes>"
      ]
     },
     "metadata": {}
    }
   ],
   "metadata": {
    "collapsed": false,
    "pycharm": {
     "name": "#%%\n"
    }
   }
  },
  {
   "cell_type": "code",
   "execution_count": 77,
   "source": [
    "plot_and_print_loss(history)"
   ],
   "outputs": [
    {
     "output_type": "error",
     "ename": "NameError",
     "evalue": "name 'history' is not defined",
     "traceback": [
      "\u001b[1;31m---------------------------------------------------------------------------\u001b[0m",
      "\u001b[1;31mNameError\u001b[0m                                 Traceback (most recent call last)",
      "\u001b[1;32mC:\\Users\\HOOFDG~1\\AppData\\Local\\Temp/ipykernel_14276/2143691569.py\u001b[0m in \u001b[0;36m<module>\u001b[1;34m\u001b[0m\n\u001b[1;32m----> 1\u001b[1;33m \u001b[0mplot_and_print_loss\u001b[0m\u001b[1;33m(\u001b[0m\u001b[0mhistory\u001b[0m\u001b[1;33m)\u001b[0m\u001b[1;33m\u001b[0m\u001b[1;33m\u001b[0m\u001b[0m\n\u001b[0m\u001b[0;32m      2\u001b[0m \u001b[1;33m\u001b[0m\u001b[0m\n",
      "\u001b[1;31mNameError\u001b[0m: name 'history' is not defined"
     ]
    }
   ],
   "metadata": {
    "collapsed": false,
    "pycharm": {
     "name": "#%%\n"
    }
   }
  },
  {
   "cell_type": "code",
   "execution_count": null,
   "source": [
    "# COACHES NOTES: The main pieces of the project are present but the notebook is a bit disorganized. \r\n",
    "# I would condense the experiments that were relevant into a single nobebook with headers, subsections etc. for each of the models.\r\n",
    "\r\n"
   ],
   "outputs": [],
   "metadata": {
    "collapsed": false,
    "pycharm": {
     "name": "#%%"
    }
   }
  }
 ],
 "metadata": {
  "kernelspec": {
   "display_name": "Python 3",
   "language": "python",
   "name": "python3"
  },
  "language_info": {
   "codemirror_mode": {
    "name": "ipython",
    "version": 2
   },
   "file_extension": ".py",
   "mimetype": "text/x-python",
   "name": "python",
   "nbconvert_exporter": "python",
   "pygments_lexer": "ipython2",
   "version": "2.7.6"
  }
 },
 "nbformat": 4,
 "nbformat_minor": 2
}