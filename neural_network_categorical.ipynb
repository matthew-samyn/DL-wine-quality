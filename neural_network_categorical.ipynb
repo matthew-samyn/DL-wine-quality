{
 "cells": [
  {
   "cell_type": "code",
   "execution_count": 177,
   "metadata": {
    "collapsed": true
   },
   "outputs": [],
   "source": [
    "import numpy as np\n",
    "import pandas as pd\n",
    "from sklearn.preprocessing import StandardScaler\n",
    "from sklearn.model_selection import train_test_split\n",
    "import tensorflow as tf\n",
    "from tensorflow import keras\n",
    "from tensorflow.keras.models import Sequential # model\n",
    "from tensorflow.keras.layers import Activation, Dense, LeakyReLU # Type of layers\n",
    "from tensorflow.keras.optimizers import Adam\n",
    "from tensorflow.keras.metrics import categorical_crossentropy\n",
    "from functions import *\n",
    "from sklearn.metrics import confusion_matrix\n",
    "from imblearn.over_sampling import SMOTE"
   ]
  },
  {
   "cell_type": "code",
   "execution_count": 178,
   "outputs": [
    {
     "name": "stdout",
     "output_type": "stream",
     "text": [
      "NUM GPUs Available:  1\n"
     ]
    }
   ],
   "source": [
    "physical_devices = tf.config.experimental.list_physical_devices(\"GPU\")\n",
    "print(\"NUM GPUs Available: \", len(physical_devices))\n",
    "tf.config.experimental.set_memory_growth(physical_devices[0], True)"
   ],
   "metadata": {
    "collapsed": false,
    "pycharm": {
     "name": "#%%\n"
    }
   }
  },
  {
   "cell_type": "code",
   "execution_count": 179,
   "outputs": [
    {
     "name": "stdout",
     "output_type": "stream",
     "text": [
      "Index(['fixed acidity', 'volatile acidity', 'citric acid', 'chlorides',\n",
      "       'total sulfur dioxide', 'density', 'pH', 'sulphates', 'alcohol',\n",
      "       'quality', 'colour', 'target'],\n",
      "      dtype='object')\n",
      "(6497, 12)\n",
      "(5315, 12)\n"
     ]
    }
   ],
   "source": [
    "df = pd.read_csv(\"assignment-files/wine.csv\", index_col=\"index\")\n",
    "print(df.columns)\n",
    "print(df.shape)\n",
    "df = df.drop_duplicates()\n",
    "print(df.shape)"
   ],
   "metadata": {
    "collapsed": false,
    "pycharm": {
     "name": "#%%\n"
    }
   }
  },
  {
   "cell_type": "code",
   "execution_count": 180,
   "outputs": [],
   "source": [
    "y = df[\"target\"].values\n",
    "X = df.drop([\"quality\",\"target\"], axis=1).values\n",
    "X_train, X_test, y_train, y_test = train_test_split(X,y,test_size=.2, stratify=y, shuffle=True)"
   ],
   "metadata": {
    "collapsed": false,
    "pycharm": {
     "name": "#%%\n"
    }
   }
  },
  {
   "cell_type": "code",
   "execution_count": 181,
   "outputs": [],
   "source": [
    "smote = SMOTE(random_state=42, k_neighbors=2)\n",
    "X_train_smote, y_train_smote = smote.fit_resample(X_train, y_train)"
   ],
   "metadata": {
    "collapsed": false,
    "pycharm": {
     "name": "#%%\n"
    }
   }
  },
  {
   "cell_type": "code",
   "execution_count": 182,
   "outputs": [],
   "source": [
    "scaler = StandardScaler().fit(X_train)\n",
    "X_train_smote = scaler.transform(X_train_smote)\n",
    "X_test = scaler.transform(X_test)"
   ],
   "metadata": {
    "collapsed": false,
    "pycharm": {
     "name": "#%%\n"
    }
   }
  },
  {
   "cell_type": "code",
   "execution_count": 183,
   "outputs": [],
   "source": [
    "layer = Dense(units=40, activation=\"relu\")\n",
    "model = Sequential([\n",
    "    Dense(units=40, activation=\"relu\", input_shape=(10,)),\n",
    "    *[*[layer]*10],\n",
    "    Dense(units=2, activation=\"softmax\")\n",
    "])"
   ],
   "metadata": {
    "collapsed": false,
    "pycharm": {
     "name": "#%%\n"
    }
   }
  },
  {
   "cell_type": "code",
   "execution_count": 184,
   "outputs": [],
   "source": [
    "learning_rate = 0.004\n",
    "loss = \"sparse_categorical_crossentropy\"\n",
    "metrics = \"accuracy\"\n",
    "model.compile(optimizer=Adam(learning_rate=learning_rate),\n",
    "                             loss=loss, metrics=metrics)"
   ],
   "metadata": {
    "collapsed": false,
    "pycharm": {
     "name": "#%%\n"
    }
   }
  },
  {
   "cell_type": "code",
   "execution_count": 185,
   "outputs": [
    {
     "name": "stdout",
     "output_type": "stream",
     "text": [
      "Epoch 1/200\n",
      "240/240 - 1s - loss: 0.5766 - accuracy: 0.7009 - val_loss: 0.6451 - val_accuracy: 0.7692\n",
      "Epoch 2/200\n",
      "240/240 - 1s - loss: 0.5377 - accuracy: 0.7416 - val_loss: 0.6912 - val_accuracy: 0.7036\n",
      "Epoch 3/200\n",
      "240/240 - 1s - loss: 0.5267 - accuracy: 0.7451 - val_loss: 0.4887 - val_accuracy: 0.8293\n",
      "Epoch 4/200\n",
      "240/240 - 1s - loss: 0.5276 - accuracy: 0.7485 - val_loss: 0.5904 - val_accuracy: 0.7486\n",
      "Epoch 5/200\n",
      "240/240 - 1s - loss: 0.5226 - accuracy: 0.7527 - val_loss: 0.5061 - val_accuracy: 0.8086\n",
      "Epoch 6/200\n",
      "240/240 - 1s - loss: 0.5156 - accuracy: 0.7529 - val_loss: 0.5007 - val_accuracy: 0.7730\n",
      "Epoch 7/200\n",
      "240/240 - 1s - loss: 0.5157 - accuracy: 0.7531 - val_loss: 0.5227 - val_accuracy: 0.8143\n",
      "Epoch 8/200\n",
      "240/240 - 1s - loss: 0.5069 - accuracy: 0.7552 - val_loss: 0.4595 - val_accuracy: 0.8199\n",
      "Epoch 9/200\n",
      "240/240 - 1s - loss: 0.5107 - accuracy: 0.7581 - val_loss: 0.5229 - val_accuracy: 0.7805\n",
      "Epoch 10/200\n",
      "240/240 - 1s - loss: 0.5062 - accuracy: 0.7606 - val_loss: 0.5072 - val_accuracy: 0.7617\n",
      "Epoch 11/200\n",
      "240/240 - 1s - loss: 0.5068 - accuracy: 0.7614 - val_loss: 0.4898 - val_accuracy: 0.7974\n",
      "Epoch 12/200\n",
      "240/240 - 1s - loss: 0.5034 - accuracy: 0.7598 - val_loss: 0.4529 - val_accuracy: 0.8049\n",
      "Epoch 13/200\n",
      "240/240 - 1s - loss: 0.5015 - accuracy: 0.7595 - val_loss: 0.4899 - val_accuracy: 0.7992\n",
      "Epoch 14/200\n",
      "240/240 - 1s - loss: 0.4959 - accuracy: 0.7635 - val_loss: 0.4323 - val_accuracy: 0.7955\n",
      "Epoch 15/200\n",
      "240/240 - 1s - loss: 0.4927 - accuracy: 0.7587 - val_loss: 0.4346 - val_accuracy: 0.8199\n",
      "Epoch 16/200\n",
      "240/240 - 1s - loss: 0.4872 - accuracy: 0.7756 - val_loss: 0.5172 - val_accuracy: 0.7355\n",
      "Epoch 17/200\n",
      "240/240 - 1s - loss: 0.4810 - accuracy: 0.7737 - val_loss: 0.4382 - val_accuracy: 0.8105\n",
      "Epoch 18/200\n",
      "240/240 - 1s - loss: 0.4869 - accuracy: 0.7696 - val_loss: 0.4705 - val_accuracy: 0.7974\n",
      "Epoch 19/200\n",
      "240/240 - 1s - loss: 0.4825 - accuracy: 0.7712 - val_loss: 0.5384 - val_accuracy: 0.8068\n",
      "Epoch 20/200\n",
      "240/240 - 1s - loss: 0.4836 - accuracy: 0.7675 - val_loss: 0.5834 - val_accuracy: 0.7392\n",
      "Epoch 21/200\n",
      "240/240 - 1s - loss: 0.4749 - accuracy: 0.7740 - val_loss: 0.4687 - val_accuracy: 0.7974\n",
      "Epoch 22/200\n",
      "240/240 - 1s - loss: 0.4707 - accuracy: 0.7823 - val_loss: 0.4107 - val_accuracy: 0.8405\n",
      "Epoch 23/200\n",
      "240/240 - 1s - loss: 0.4731 - accuracy: 0.7779 - val_loss: 0.5850 - val_accuracy: 0.7355\n",
      "Epoch 24/200\n",
      "240/240 - 1s - loss: 0.4692 - accuracy: 0.7815 - val_loss: 0.5758 - val_accuracy: 0.7561\n",
      "Epoch 25/200\n",
      "240/240 - 1s - loss: 0.4682 - accuracy: 0.7798 - val_loss: 0.5367 - val_accuracy: 0.7542\n",
      "Epoch 26/200\n",
      "240/240 - 1s - loss: 0.4668 - accuracy: 0.7808 - val_loss: 0.4675 - val_accuracy: 0.7805\n",
      "Epoch 27/200\n",
      "240/240 - 1s - loss: 0.4596 - accuracy: 0.7858 - val_loss: 0.5177 - val_accuracy: 0.8030\n",
      "Epoch 28/200\n",
      "240/240 - 1s - loss: 0.4602 - accuracy: 0.7867 - val_loss: 0.5094 - val_accuracy: 0.7917\n",
      "Epoch 29/200\n",
      "240/240 - 1s - loss: 0.4574 - accuracy: 0.7894 - val_loss: 0.3924 - val_accuracy: 0.8462\n",
      "Epoch 30/200\n",
      "240/240 - 1s - loss: 0.4554 - accuracy: 0.7913 - val_loss: 0.4646 - val_accuracy: 0.8161\n",
      "Epoch 31/200\n",
      "240/240 - 1s - loss: 0.4564 - accuracy: 0.7884 - val_loss: 0.4856 - val_accuracy: 0.8030\n",
      "Epoch 32/200\n",
      "240/240 - 1s - loss: 0.4467 - accuracy: 0.7944 - val_loss: 0.4600 - val_accuracy: 0.8124\n",
      "Epoch 33/200\n",
      "240/240 - 1s - loss: 0.4503 - accuracy: 0.7911 - val_loss: 0.5389 - val_accuracy: 0.7880\n",
      "Epoch 34/200\n",
      "240/240 - 1s - loss: 0.4407 - accuracy: 0.7948 - val_loss: 0.3759 - val_accuracy: 0.8668\n",
      "Epoch 35/200\n",
      "240/240 - 1s - loss: 0.4473 - accuracy: 0.7904 - val_loss: 0.4711 - val_accuracy: 0.8386\n",
      "Epoch 36/200\n",
      "240/240 - 1s - loss: 0.4449 - accuracy: 0.7923 - val_loss: 0.4501 - val_accuracy: 0.8368\n",
      "Epoch 37/200\n",
      "240/240 - 1s - loss: 0.4399 - accuracy: 0.7994 - val_loss: 0.5055 - val_accuracy: 0.8011\n",
      "Epoch 38/200\n",
      "240/240 - 1s - loss: 0.4365 - accuracy: 0.8036 - val_loss: 0.4123 - val_accuracy: 0.8424\n",
      "Epoch 39/200\n",
      "240/240 - 1s - loss: 0.4321 - accuracy: 0.7990 - val_loss: 0.4889 - val_accuracy: 0.7861\n",
      "Epoch 40/200\n",
      "240/240 - 1s - loss: 0.4379 - accuracy: 0.8005 - val_loss: 0.4397 - val_accuracy: 0.8443\n",
      "Epoch 41/200\n",
      "240/240 - 1s - loss: 0.4343 - accuracy: 0.7984 - val_loss: 0.4729 - val_accuracy: 0.8143\n",
      "Epoch 42/200\n",
      "240/240 - 1s - loss: 0.4415 - accuracy: 0.7936 - val_loss: 0.4409 - val_accuracy: 0.8199\n",
      "Epoch 43/200\n",
      "240/240 - 1s - loss: 0.4357 - accuracy: 0.7965 - val_loss: 0.4270 - val_accuracy: 0.8236\n",
      "Epoch 44/200\n",
      "240/240 - 1s - loss: 0.4331 - accuracy: 0.8005 - val_loss: 0.4144 - val_accuracy: 0.8424\n",
      "Epoch 45/200\n",
      "240/240 - 1s - loss: 0.4283 - accuracy: 0.7967 - val_loss: 0.4130 - val_accuracy: 0.8668\n",
      "Epoch 46/200\n",
      "240/240 - 1s - loss: 0.4445 - accuracy: 0.7944 - val_loss: 0.5513 - val_accuracy: 0.7242\n",
      "Epoch 47/200\n",
      "240/240 - 1s - loss: 0.4320 - accuracy: 0.7996 - val_loss: 0.4455 - val_accuracy: 0.8274\n",
      "Epoch 48/200\n",
      "240/240 - 1s - loss: 0.4209 - accuracy: 0.8086 - val_loss: 0.4319 - val_accuracy: 0.8218\n",
      "Epoch 49/200\n",
      "240/240 - 1s - loss: 0.4183 - accuracy: 0.8009 - val_loss: 0.5292 - val_accuracy: 0.8086\n",
      "Epoch 50/200\n",
      "240/240 - 1s - loss: 0.4307 - accuracy: 0.8023 - val_loss: 0.4509 - val_accuracy: 0.8330\n",
      "Epoch 51/200\n",
      "240/240 - 1s - loss: 0.4330 - accuracy: 0.8046 - val_loss: 0.4729 - val_accuracy: 0.8068\n",
      "Epoch 52/200\n",
      "240/240 - 1s - loss: 0.4176 - accuracy: 0.8101 - val_loss: 0.5089 - val_accuracy: 0.7749\n",
      "Epoch 53/200\n",
      "240/240 - 1s - loss: 0.4265 - accuracy: 0.7988 - val_loss: 0.4172 - val_accuracy: 0.8480\n",
      "Epoch 54/200\n",
      "240/240 - 1s - loss: 0.4235 - accuracy: 0.8055 - val_loss: 0.4725 - val_accuracy: 0.8236\n",
      "Epoch 55/200\n",
      "240/240 - 1s - loss: 0.4177 - accuracy: 0.8101 - val_loss: 0.4471 - val_accuracy: 0.8030\n",
      "Epoch 56/200\n",
      "240/240 - 1s - loss: 0.4328 - accuracy: 0.8005 - val_loss: 0.4746 - val_accuracy: 0.8124\n",
      "Epoch 57/200\n",
      "240/240 - 1s - loss: 0.4159 - accuracy: 0.8080 - val_loss: 0.4958 - val_accuracy: 0.8293\n",
      "Epoch 58/200\n",
      "240/240 - 1s - loss: 0.4054 - accuracy: 0.8178 - val_loss: 0.4546 - val_accuracy: 0.8161\n",
      "Epoch 59/200\n",
      "240/240 - 1s - loss: 0.4040 - accuracy: 0.8182 - val_loss: 0.3715 - val_accuracy: 0.8462\n",
      "Epoch 60/200\n",
      "240/240 - 1s - loss: 0.4116 - accuracy: 0.8157 - val_loss: 0.3997 - val_accuracy: 0.8443\n",
      "Epoch 61/200\n",
      "240/240 - 1s - loss: 0.4097 - accuracy: 0.8107 - val_loss: 0.4865 - val_accuracy: 0.7730\n",
      "Epoch 62/200\n",
      "240/240 - 1s - loss: 0.4082 - accuracy: 0.8099 - val_loss: 0.5048 - val_accuracy: 0.8143\n",
      "Epoch 63/200\n",
      "240/240 - 1s - loss: 0.4042 - accuracy: 0.8163 - val_loss: 0.3682 - val_accuracy: 0.8630\n",
      "Epoch 64/200\n",
      "240/240 - 1s - loss: 0.4924 - accuracy: 0.8046 - val_loss: 0.5113 - val_accuracy: 0.8218\n",
      "Epoch 65/200\n",
      "240/240 - 1s - loss: 0.4504 - accuracy: 0.7934 - val_loss: 0.5056 - val_accuracy: 0.8049\n",
      "Epoch 66/200\n",
      "240/240 - 1s - loss: 0.4364 - accuracy: 0.7992 - val_loss: 0.4435 - val_accuracy: 0.8499\n",
      "Epoch 67/200\n",
      "240/240 - 1s - loss: 0.4101 - accuracy: 0.8140 - val_loss: 0.4076 - val_accuracy: 0.8405\n",
      "Epoch 68/200\n",
      "240/240 - 1s - loss: 0.4106 - accuracy: 0.8132 - val_loss: 0.5469 - val_accuracy: 0.7899\n",
      "Epoch 69/200\n",
      "240/240 - 1s - loss: 0.4007 - accuracy: 0.8180 - val_loss: 0.4531 - val_accuracy: 0.8068\n",
      "Epoch 70/200\n",
      "240/240 - 1s - loss: 0.4011 - accuracy: 0.8205 - val_loss: 0.4381 - val_accuracy: 0.8443\n",
      "Epoch 71/200\n",
      "240/240 - 1s - loss: 0.4015 - accuracy: 0.8174 - val_loss: 0.3609 - val_accuracy: 0.8668\n",
      "Epoch 72/200\n",
      "240/240 - 1s - loss: 0.3924 - accuracy: 0.8245 - val_loss: 0.3983 - val_accuracy: 0.8330\n",
      "Epoch 73/200\n",
      "240/240 - 1s - loss: 0.3893 - accuracy: 0.8209 - val_loss: 0.4724 - val_accuracy: 0.8105\n",
      "Epoch 74/200\n",
      "240/240 - 1s - loss: 0.3955 - accuracy: 0.8178 - val_loss: 0.5041 - val_accuracy: 0.8180\n",
      "Epoch 75/200\n",
      "240/240 - 1s - loss: 0.3891 - accuracy: 0.8272 - val_loss: 0.4076 - val_accuracy: 0.8574\n",
      "Epoch 76/200\n",
      "240/240 - 1s - loss: 0.3854 - accuracy: 0.8224 - val_loss: 0.3462 - val_accuracy: 0.8799\n",
      "Epoch 77/200\n",
      "240/240 - 1s - loss: 0.3781 - accuracy: 0.8334 - val_loss: 0.4457 - val_accuracy: 0.8480\n",
      "Epoch 78/200\n",
      "240/240 - 1s - loss: 0.3895 - accuracy: 0.8222 - val_loss: 0.4185 - val_accuracy: 0.8480\n",
      "Epoch 79/200\n",
      "240/240 - 1s - loss: 0.3825 - accuracy: 0.8288 - val_loss: 0.4895 - val_accuracy: 0.8255\n",
      "Epoch 80/200\n",
      "240/240 - 1s - loss: 0.3860 - accuracy: 0.8243 - val_loss: 0.5009 - val_accuracy: 0.7955\n",
      "Epoch 81/200\n",
      "240/240 - 1s - loss: 0.4030 - accuracy: 0.8188 - val_loss: 0.4338 - val_accuracy: 0.8199\n",
      "Epoch 82/200\n",
      "240/240 - 1s - loss: 0.3911 - accuracy: 0.8274 - val_loss: 0.4402 - val_accuracy: 0.8349\n",
      "Epoch 83/200\n",
      "240/240 - 1s - loss: 0.4170 - accuracy: 0.8078 - val_loss: 0.3880 - val_accuracy: 0.8386\n",
      "Epoch 84/200\n",
      "240/240 - 1s - loss: 0.3903 - accuracy: 0.8190 - val_loss: 0.4021 - val_accuracy: 0.8199\n",
      "Epoch 85/200\n",
      "240/240 - 1s - loss: 0.3844 - accuracy: 0.8280 - val_loss: 0.4210 - val_accuracy: 0.8518\n",
      "Epoch 86/200\n",
      "240/240 - 1s - loss: 0.3896 - accuracy: 0.8232 - val_loss: 0.4399 - val_accuracy: 0.8311\n",
      "Epoch 87/200\n",
      "240/240 - 1s - loss: 0.3811 - accuracy: 0.8311 - val_loss: 0.4709 - val_accuracy: 0.8124\n",
      "Epoch 88/200\n",
      "240/240 - 1s - loss: 0.3800 - accuracy: 0.8249 - val_loss: 0.4295 - val_accuracy: 0.8462\n",
      "Epoch 89/200\n",
      "240/240 - 1s - loss: 0.3765 - accuracy: 0.8286 - val_loss: 0.3948 - val_accuracy: 0.8424\n",
      "Epoch 90/200\n",
      "240/240 - 1s - loss: 0.3879 - accuracy: 0.8209 - val_loss: 0.3478 - val_accuracy: 0.8612\n",
      "Epoch 91/200\n",
      "240/240 - 1s - loss: 0.3888 - accuracy: 0.8207 - val_loss: 0.4230 - val_accuracy: 0.8368\n",
      "Epoch 92/200\n",
      "240/240 - 1s - loss: 0.3782 - accuracy: 0.8280 - val_loss: 0.3792 - val_accuracy: 0.8780\n",
      "Epoch 93/200\n",
      "240/240 - 1s - loss: 0.3698 - accuracy: 0.8332 - val_loss: 0.4766 - val_accuracy: 0.8218\n",
      "Epoch 94/200\n",
      "240/240 - 1s - loss: 0.3813 - accuracy: 0.8280 - val_loss: 0.3861 - val_accuracy: 0.8443\n",
      "Epoch 95/200\n",
      "240/240 - 1s - loss: 0.3760 - accuracy: 0.8307 - val_loss: 0.4477 - val_accuracy: 0.8105\n",
      "Epoch 96/200\n",
      "240/240 - 1s - loss: 0.3954 - accuracy: 0.8226 - val_loss: 0.4838 - val_accuracy: 0.8424\n",
      "Epoch 97/200\n",
      "240/240 - 1s - loss: 0.3732 - accuracy: 0.8311 - val_loss: 0.3931 - val_accuracy: 0.8499\n",
      "Epoch 98/200\n",
      "240/240 - 1s - loss: 0.3781 - accuracy: 0.8243 - val_loss: 0.4330 - val_accuracy: 0.8161\n",
      "Epoch 99/200\n",
      "240/240 - 1s - loss: 0.3678 - accuracy: 0.8243 - val_loss: 0.5238 - val_accuracy: 0.8255\n",
      "Epoch 100/200\n",
      "240/240 - 1s - loss: 0.3917 - accuracy: 0.8178 - val_loss: 0.4138 - val_accuracy: 0.8443\n",
      "Epoch 101/200\n",
      "240/240 - 1s - loss: 0.3819 - accuracy: 0.8268 - val_loss: 0.4656 - val_accuracy: 0.8405\n",
      "Epoch 102/200\n",
      "240/240 - 1s - loss: 0.4068 - accuracy: 0.8161 - val_loss: 0.4337 - val_accuracy: 0.8105\n",
      "Epoch 103/200\n",
      "240/240 - 1s - loss: 0.3961 - accuracy: 0.8174 - val_loss: 0.3893 - val_accuracy: 0.8480\n",
      "Epoch 104/200\n",
      "240/240 - 1s - loss: 0.3699 - accuracy: 0.8351 - val_loss: 0.4691 - val_accuracy: 0.7936\n",
      "Epoch 105/200\n",
      "240/240 - 1s - loss: 0.3717 - accuracy: 0.8324 - val_loss: 0.4062 - val_accuracy: 0.8574\n",
      "Epoch 106/200\n",
      "240/240 - 1s - loss: 0.3616 - accuracy: 0.8405 - val_loss: 0.4795 - val_accuracy: 0.8349\n",
      "Epoch 107/200\n",
      "240/240 - 1s - loss: 0.3751 - accuracy: 0.8322 - val_loss: 0.4123 - val_accuracy: 0.8480\n",
      "Epoch 108/200\n",
      "240/240 - 1s - loss: 0.3616 - accuracy: 0.8347 - val_loss: 0.4277 - val_accuracy: 0.8311\n",
      "Epoch 109/200\n",
      "240/240 - 1s - loss: 0.3613 - accuracy: 0.8318 - val_loss: 0.4889 - val_accuracy: 0.8143\n",
      "Epoch 110/200\n",
      "240/240 - 1s - loss: 0.3644 - accuracy: 0.8374 - val_loss: 0.4360 - val_accuracy: 0.8311\n",
      "Epoch 111/200\n",
      "240/240 - 1s - loss: 0.3565 - accuracy: 0.8397 - val_loss: 0.4753 - val_accuracy: 0.8330\n",
      "Epoch 112/200\n",
      "240/240 - 1s - loss: 0.3966 - accuracy: 0.8222 - val_loss: 0.4811 - val_accuracy: 0.8105\n",
      "Epoch 113/200\n",
      "240/240 - 1s - loss: 0.3613 - accuracy: 0.8372 - val_loss: 0.4525 - val_accuracy: 0.8593\n",
      "Epoch 114/200\n",
      "240/240 - 1s - loss: 0.3565 - accuracy: 0.8407 - val_loss: 0.5070 - val_accuracy: 0.7955\n",
      "Epoch 115/200\n",
      "240/240 - 1s - loss: 0.3577 - accuracy: 0.8435 - val_loss: 0.3806 - val_accuracy: 0.8612\n",
      "Epoch 116/200\n",
      "240/240 - 1s - loss: 0.3576 - accuracy: 0.8410 - val_loss: 0.4475 - val_accuracy: 0.8443\n",
      "Epoch 117/200\n",
      "240/240 - 1s - loss: 0.3586 - accuracy: 0.8399 - val_loss: 0.3921 - val_accuracy: 0.8424\n",
      "Epoch 118/200\n",
      "240/240 - 1s - loss: 0.3755 - accuracy: 0.8339 - val_loss: 0.4224 - val_accuracy: 0.8161\n",
      "Epoch 119/200\n",
      "240/240 - 1s - loss: 0.3746 - accuracy: 0.8332 - val_loss: 0.4570 - val_accuracy: 0.8143\n",
      "Epoch 120/200\n",
      "240/240 - 1s - loss: 0.3637 - accuracy: 0.8387 - val_loss: 0.4225 - val_accuracy: 0.8424\n",
      "Epoch 121/200\n",
      "240/240 - 1s - loss: 0.3606 - accuracy: 0.8391 - val_loss: 0.4406 - val_accuracy: 0.8180\n",
      "Epoch 122/200\n",
      "240/240 - 1s - loss: 0.3467 - accuracy: 0.8447 - val_loss: 0.4798 - val_accuracy: 0.7917\n",
      "Epoch 123/200\n",
      "240/240 - 1s - loss: 0.3452 - accuracy: 0.8437 - val_loss: 0.4994 - val_accuracy: 0.7992\n",
      "Epoch 124/200\n",
      "240/240 - 1s - loss: 0.3448 - accuracy: 0.8428 - val_loss: 0.4346 - val_accuracy: 0.8462\n",
      "Epoch 125/200\n",
      "240/240 - 1s - loss: 0.3375 - accuracy: 0.8460 - val_loss: 0.4468 - val_accuracy: 0.8424\n",
      "Epoch 126/200\n",
      "240/240 - 1s - loss: 0.3488 - accuracy: 0.8422 - val_loss: 0.4538 - val_accuracy: 0.8236\n",
      "Epoch 127/200\n",
      "240/240 - 1s - loss: 0.3542 - accuracy: 0.8420 - val_loss: 0.3952 - val_accuracy: 0.8593\n",
      "Epoch 128/200\n",
      "240/240 - 1s - loss: 0.3527 - accuracy: 0.8389 - val_loss: 0.4135 - val_accuracy: 0.8199\n",
      "Epoch 129/200\n",
      "240/240 - 1s - loss: 0.3490 - accuracy: 0.8357 - val_loss: 0.5006 - val_accuracy: 0.8068\n",
      "Epoch 130/200\n",
      "240/240 - 1s - loss: 0.3620 - accuracy: 0.8426 - val_loss: 0.4619 - val_accuracy: 0.8180\n",
      "Epoch 131/200\n",
      "240/240 - 1s - loss: 0.3656 - accuracy: 0.8410 - val_loss: 0.4462 - val_accuracy: 0.8180\n",
      "Epoch 132/200\n",
      "240/240 - 1s - loss: 0.3433 - accuracy: 0.8495 - val_loss: 0.4265 - val_accuracy: 0.7974\n",
      "Epoch 133/200\n",
      "240/240 - 1s - loss: 0.3437 - accuracy: 0.8447 - val_loss: 0.5075 - val_accuracy: 0.8255\n",
      "Epoch 134/200\n",
      "240/240 - 1s - loss: 0.4155 - accuracy: 0.8274 - val_loss: 0.4409 - val_accuracy: 0.8274\n",
      "Epoch 135/200\n",
      "240/240 - 1s - loss: 0.3693 - accuracy: 0.8322 - val_loss: 0.4059 - val_accuracy: 0.8537\n",
      "Epoch 136/200\n",
      "240/240 - 1s - loss: 0.3740 - accuracy: 0.8336 - val_loss: 0.4074 - val_accuracy: 0.8443\n",
      "Epoch 137/200\n",
      "240/240 - 1s - loss: 0.3873 - accuracy: 0.8309 - val_loss: 0.5263 - val_accuracy: 0.8199\n",
      "Epoch 138/200\n",
      "240/240 - 1s - loss: 0.3610 - accuracy: 0.8389 - val_loss: 0.4520 - val_accuracy: 0.8368\n",
      "Epoch 139/200\n",
      "240/240 - 1s - loss: 0.3475 - accuracy: 0.8510 - val_loss: 0.4569 - val_accuracy: 0.8124\n",
      "Epoch 140/200\n",
      "240/240 - 1s - loss: 0.3404 - accuracy: 0.8522 - val_loss: 0.4637 - val_accuracy: 0.8105\n",
      "Epoch 141/200\n",
      "240/240 - 1s - loss: 0.3394 - accuracy: 0.8495 - val_loss: 0.5526 - val_accuracy: 0.8030\n",
      "Epoch 142/200\n",
      "240/240 - 1s - loss: 0.3443 - accuracy: 0.8478 - val_loss: 0.4413 - val_accuracy: 0.8443\n",
      "Epoch 143/200\n",
      "240/240 - 1s - loss: 0.3508 - accuracy: 0.8453 - val_loss: 0.4469 - val_accuracy: 0.7749\n",
      "Epoch 144/200\n",
      "240/240 - 1s - loss: 0.3407 - accuracy: 0.8512 - val_loss: 0.3875 - val_accuracy: 0.8555\n",
      "Epoch 145/200\n",
      "240/240 - 1s - loss: 0.3296 - accuracy: 0.8533 - val_loss: 0.4139 - val_accuracy: 0.8124\n",
      "Epoch 146/200\n",
      "240/240 - 1s - loss: 0.3536 - accuracy: 0.8437 - val_loss: 0.3978 - val_accuracy: 0.8462\n",
      "Epoch 147/200\n",
      "240/240 - 1s - loss: 0.3529 - accuracy: 0.8472 - val_loss: 0.4759 - val_accuracy: 0.8011\n",
      "Epoch 148/200\n",
      "240/240 - 1s - loss: 0.3547 - accuracy: 0.8449 - val_loss: 0.4104 - val_accuracy: 0.8593\n",
      "Epoch 149/200\n",
      "240/240 - 1s - loss: 0.3301 - accuracy: 0.8564 - val_loss: 0.3859 - val_accuracy: 0.8555\n",
      "Epoch 150/200\n",
      "240/240 - 1s - loss: 0.3269 - accuracy: 0.8581 - val_loss: 0.4388 - val_accuracy: 0.8330\n",
      "Epoch 151/200\n",
      "240/240 - 1s - loss: 0.3274 - accuracy: 0.8478 - val_loss: 0.4570 - val_accuracy: 0.8218\n",
      "Epoch 152/200\n",
      "240/240 - 1s - loss: 0.3295 - accuracy: 0.8531 - val_loss: 0.3946 - val_accuracy: 0.8668\n",
      "Epoch 153/200\n",
      "240/240 - 1s - loss: 0.3296 - accuracy: 0.8545 - val_loss: 0.3820 - val_accuracy: 0.8874\n",
      "Epoch 154/200\n",
      "240/240 - 1s - loss: 0.3368 - accuracy: 0.8493 - val_loss: 0.4446 - val_accuracy: 0.8518\n",
      "Epoch 155/200\n",
      "240/240 - 1s - loss: 0.3716 - accuracy: 0.8297 - val_loss: 0.4121 - val_accuracy: 0.8349\n",
      "Epoch 156/200\n",
      "240/240 - 1s - loss: 0.3298 - accuracy: 0.8526 - val_loss: 0.5034 - val_accuracy: 0.8218\n",
      "Epoch 157/200\n",
      "240/240 - 1s - loss: 0.3265 - accuracy: 0.8539 - val_loss: 0.5601 - val_accuracy: 0.8180\n",
      "Epoch 158/200\n",
      "240/240 - 1s - loss: 0.3325 - accuracy: 0.8528 - val_loss: 0.4148 - val_accuracy: 0.8480\n",
      "Epoch 159/200\n",
      "240/240 - 1s - loss: 0.3345 - accuracy: 0.8497 - val_loss: 0.4307 - val_accuracy: 0.8705\n",
      "Epoch 160/200\n",
      "240/240 - 1s - loss: 0.3311 - accuracy: 0.8566 - val_loss: 0.4318 - val_accuracy: 0.8424\n",
      "Epoch 161/200\n",
      "240/240 - 1s - loss: 0.3523 - accuracy: 0.8414 - val_loss: 0.3827 - val_accuracy: 0.8705\n",
      "Epoch 162/200\n",
      "240/240 - 1s - loss: 0.3384 - accuracy: 0.8503 - val_loss: 0.3909 - val_accuracy: 0.8518\n",
      "Epoch 163/200\n",
      "240/240 - 1s - loss: 0.3465 - accuracy: 0.8466 - val_loss: 0.4280 - val_accuracy: 0.8124\n",
      "Epoch 164/200\n",
      "240/240 - 1s - loss: 0.3960 - accuracy: 0.8236 - val_loss: 0.4580 - val_accuracy: 0.8143\n",
      "Epoch 165/200\n",
      "240/240 - 1s - loss: 0.3461 - accuracy: 0.8501 - val_loss: 0.4363 - val_accuracy: 0.8143\n",
      "Epoch 166/200\n",
      "240/240 - 1s - loss: 0.3257 - accuracy: 0.8562 - val_loss: 0.3843 - val_accuracy: 0.8856\n",
      "Epoch 167/200\n",
      "240/240 - 1s - loss: 0.3247 - accuracy: 0.8587 - val_loss: 0.4388 - val_accuracy: 0.8480\n",
      "Epoch 168/200\n",
      "240/240 - 1s - loss: 0.3157 - accuracy: 0.8627 - val_loss: 0.4106 - val_accuracy: 0.8293\n",
      "Epoch 169/200\n",
      "240/240 - 1s - loss: 0.3062 - accuracy: 0.8660 - val_loss: 0.3766 - val_accuracy: 0.8818\n",
      "Epoch 170/200\n",
      "240/240 - 1s - loss: 0.3185 - accuracy: 0.8652 - val_loss: 0.4979 - val_accuracy: 0.8049\n",
      "Epoch 171/200\n",
      "240/240 - 1s - loss: 0.3655 - accuracy: 0.8384 - val_loss: 0.4385 - val_accuracy: 0.7974\n",
      "Epoch 172/200\n",
      "240/240 - 1s - loss: 0.3622 - accuracy: 0.8397 - val_loss: 0.4692 - val_accuracy: 0.8349\n",
      "Epoch 173/200\n",
      "240/240 - 1s - loss: 0.3248 - accuracy: 0.8554 - val_loss: 0.4424 - val_accuracy: 0.8311\n",
      "Epoch 174/200\n",
      "240/240 - 1s - loss: 0.3226 - accuracy: 0.8568 - val_loss: 0.4064 - val_accuracy: 0.8537\n",
      "Epoch 175/200\n",
      "240/240 - 1s - loss: 0.3416 - accuracy: 0.8480 - val_loss: 0.4030 - val_accuracy: 0.8499\n",
      "Epoch 176/200\n",
      "240/240 - 1s - loss: 0.3167 - accuracy: 0.8618 - val_loss: 0.5129 - val_accuracy: 0.8030\n",
      "Epoch 177/200\n",
      "240/240 - 1s - loss: 0.3244 - accuracy: 0.8583 - val_loss: 0.4652 - val_accuracy: 0.8180\n",
      "Epoch 178/200\n",
      "240/240 - 1s - loss: 0.3140 - accuracy: 0.8658 - val_loss: 0.3911 - val_accuracy: 0.8537\n",
      "Epoch 179/200\n",
      "240/240 - 1s - loss: 0.3432 - accuracy: 0.8478 - val_loss: 0.4760 - val_accuracy: 0.8274\n",
      "Epoch 180/200\n",
      "240/240 - 1s - loss: 0.3793 - accuracy: 0.8295 - val_loss: 0.5081 - val_accuracy: 0.7767\n",
      "Epoch 181/200\n",
      "240/240 - 1s - loss: 0.3777 - accuracy: 0.8349 - val_loss: 0.4131 - val_accuracy: 0.8443\n",
      "Epoch 182/200\n",
      "240/240 - 1s - loss: 0.3352 - accuracy: 0.8531 - val_loss: 0.4225 - val_accuracy: 0.8274\n",
      "Epoch 183/200\n",
      "240/240 - 1s - loss: 0.3259 - accuracy: 0.8551 - val_loss: 0.4607 - val_accuracy: 0.8330\n",
      "Epoch 184/200\n",
      "240/240 - 1s - loss: 0.3261 - accuracy: 0.8585 - val_loss: 0.4955 - val_accuracy: 0.8255\n",
      "Epoch 185/200\n",
      "240/240 - 1s - loss: 0.3467 - accuracy: 0.8432 - val_loss: 0.4145 - val_accuracy: 0.8443\n",
      "Epoch 186/200\n",
      "240/240 - 1s - loss: 0.3316 - accuracy: 0.8539 - val_loss: 0.4228 - val_accuracy: 0.8462\n",
      "Epoch 187/200\n",
      "240/240 - 1s - loss: 0.3202 - accuracy: 0.8635 - val_loss: 0.3709 - val_accuracy: 0.8612\n",
      "Epoch 188/200\n",
      "240/240 - 1s - loss: 0.3300 - accuracy: 0.8549 - val_loss: 0.4647 - val_accuracy: 0.8443\n",
      "Epoch 189/200\n",
      "240/240 - 1s - loss: 0.3567 - accuracy: 0.8384 - val_loss: 0.4560 - val_accuracy: 0.8499\n",
      "Epoch 190/200\n",
      "240/240 - 1s - loss: 0.3382 - accuracy: 0.8508 - val_loss: 0.5091 - val_accuracy: 0.8011\n",
      "Epoch 191/200\n",
      "240/240 - 1s - loss: 0.3381 - accuracy: 0.8528 - val_loss: 0.5962 - val_accuracy: 0.7561\n",
      "Epoch 192/200\n",
      "240/240 - 1s - loss: 0.3208 - accuracy: 0.8564 - val_loss: 0.5024 - val_accuracy: 0.8199\n",
      "Epoch 193/200\n",
      "240/240 - 1s - loss: 0.2995 - accuracy: 0.8716 - val_loss: 0.4067 - val_accuracy: 0.8799\n",
      "Epoch 194/200\n",
      "240/240 - 1s - loss: 0.3183 - accuracy: 0.8579 - val_loss: 0.5225 - val_accuracy: 0.7936\n",
      "Epoch 195/200\n",
      "240/240 - 1s - loss: 0.3443 - accuracy: 0.8480 - val_loss: 0.4526 - val_accuracy: 0.8293\n",
      "Epoch 196/200\n",
      "240/240 - 1s - loss: 0.3347 - accuracy: 0.8472 - val_loss: 0.4107 - val_accuracy: 0.8574\n",
      "Epoch 197/200\n",
      "240/240 - 1s - loss: 0.3559 - accuracy: 0.8399 - val_loss: 0.4751 - val_accuracy: 0.8086\n",
      "Epoch 198/200\n",
      "240/240 - 1s - loss: 0.3235 - accuracy: 0.8537 - val_loss: 0.4722 - val_accuracy: 0.8030\n",
      "Epoch 199/200\n",
      "240/240 - 1s - loss: 0.3511 - accuracy: 0.8516 - val_loss: 0.5092 - val_accuracy: 0.8011\n",
      "Epoch 200/200\n",
      "240/240 - 1s - loss: 0.3633 - accuracy: 0.8389 - val_loss: 0.4140 - val_accuracy: 0.8593\n"
     ]
    }
   ],
   "source": [
    "history = model.fit(x=X_train_smote, y=y_train_smote, batch_size=20, epochs=200,\n",
    "          verbose=2, validation_split=0.1)"
   ],
   "metadata": {
    "collapsed": false,
    "pycharm": {
     "name": "#%%\n"
    }
   }
  },
  {
   "cell_type": "code",
   "execution_count": 186,
   "outputs": [],
   "source": [
    "model.save(\"models/categorical_.h5\")"
   ],
   "metadata": {
    "collapsed": false,
    "pycharm": {
     "name": "#%%\n"
    }
   }
  },
  {
   "cell_type": "code",
   "execution_count": 187,
   "outputs": [],
   "source": [
    "predictions = model.predict(x=X_test, batch_size=100)\n",
    "rounded_predictions = np.argmax(predictions, axis=-1)\n",
    "cm = confusion_matrix(y_test,rounded_predictions)\n",
    "plot_labels = [\"bad\",\"good\"]"
   ],
   "metadata": {
    "collapsed": false,
    "pycharm": {
     "name": "#%%\n"
    }
   }
  },
  {
   "cell_type": "code",
   "execution_count": 188,
   "outputs": [
    {
     "name": "stdout",
     "output_type": "stream",
     "text": [
      "test loss, test acc: [0.6840947866439819, 0.7130761742591858]\n",
      "(1063,)\n"
     ]
    },
    {
     "data": {
      "text/plain": "<Figure size 1008x1008 with 0 Axes>"
     },
     "metadata": {},
     "output_type": "display_data"
    },
    {
     "data": {
      "text/plain": "<Figure size 432x288 with 2 Axes>",
      "image/png": "[encoded data removed]"
     },
     "metadata": {},
     "output_type": "display_data"
    }
   ],
   "source": [
    "results = model.evaluate(X_test, y_test, batch_size=500, verbose=0)\n",
    "print(\"test loss, test acc:\", results)\n",
    "print(y_test.shape)\n",
    "plot_confusion_matrix(cm=cm, classes=plot_labels,\n",
    "                      title= \"CM, using categorical data\")"
   ],
   "metadata": {
    "collapsed": false,
    "pycharm": {
     "name": "#%%\n"
    }
   }
  },
  {
   "cell_type": "code",
   "execution_count": 189,
   "outputs": [
    {
     "name": "stdout",
     "output_type": "stream",
     "text": [
      "Status at last epoch:\n",
      "train_score = 0.3632912039756775\n",
      "val_score   = 0.4140336811542511\n"
     ]
    },
    {
     "data": {
      "text/plain": "<Figure size 432x288 with 1 Axes>",
      "image/png": "[encoded data removed]"
     },
     "metadata": {
      "needs_background": "light"
     },
     "output_type": "display_data"
    }
   ],
   "source": [
    "plot_and_print_loss(history)"
   ],
   "metadata": {
    "collapsed": false,
    "pycharm": {
     "name": "#%%\n"
    }
   }
  },
  {
   "cell_type": "code",
   "execution_count": 189,
   "outputs": [],
   "source": [],
   "metadata": {
    "collapsed": false,
    "pycharm": {
     "name": "#%%\n"
    }
   }
  }
 ],
 "metadata": {
  "kernelspec": {
   "display_name": "Python 3",
   "language": "python",
   "name": "python3"
  },
  "language_info": {
   "codemirror_mode": {
    "name": "ipython",
    "version": 2
   },
   "file_extension": ".py",
   "mimetype": "text/x-python",
   "name": "python",
   "nbconvert_exporter": "python",
   "pygments_lexer": "ipython2",
   "version": "2.7.6"
  }
 },
 "nbformat": 4,
 "nbformat_minor": 0
}