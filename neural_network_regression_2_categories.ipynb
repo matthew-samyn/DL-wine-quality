{
 "cells": [
  {
   "cell_type": "code",
   "execution_count": 1,
   "metadata": {
    "collapsed": true
   },
   "outputs": [],
   "source": [
    "import numpy as np\n",
    "import pandas as pd\n",
    "from sklearn.preprocessing import MinMaxScaler\n",
    "from sklearn.model_selection import train_test_split\n",
    "import tensorflow as tf\n",
    "from tensorflow.keras.layers.experimental import preprocessing\n",
    "from tensorflow import keras\n",
    "from tensorflow.keras.models import Sequential # model\n",
    "from tensorflow.keras.layers import Activation, Dense, LeakyReLU # Type of layers\n",
    "from tensorflow.keras.optimizers import Adam\n",
    "from tensorflow.keras.metrics import categorical_crossentropy\n",
    "from functions import *\n",
    "from sklearn.metrics import confusion_matrix, classification_report"
   ]
  },
  {
   "cell_type": "code",
   "execution_count": 2,
   "outputs": [
    {
     "name": "stdout",
     "output_type": "stream",
     "text": [
      "NUM GPUs Available:  1\n"
     ]
    }
   ],
   "source": [
    "physical_devices = tf.config.experimental.list_physical_devices(\"GPU\")\n",
    "print(\"NUM GPUs Available: \", len(physical_devices))\n",
    "tf.config.experimental.set_memory_growth(physical_devices[0], True)"
   ],
   "metadata": {
    "collapsed": false,
    "pycharm": {
     "name": "#%%\n"
    }
   }
  },
  {
   "cell_type": "code",
   "execution_count": 3,
   "outputs": [
    {
     "name": "stdout",
     "output_type": "stream",
     "text": [
      "Index(['fixed acidity', 'volatile acidity', 'citric acid', 'residual sugar',\n",
      "       'chlorides', 'free sulfur dioxide', 'total sulfur dioxide', 'density',\n",
      "       'pH', 'sulphates', 'alcohol', 'quality', 'target'],\n",
      "      dtype='object')\n",
      "6    2323\n",
      "5    1751\n",
      "7     855\n",
      "4     206\n",
      "8     148\n",
      "3      30\n",
      "9       5\n",
      "Name: quality, dtype: int64\n"
     ]
    }
   ],
   "source": [
    "df = pd.read_csv(\"assignment-files/wine.csv\", index_col=\"index\")\n",
    "columns = df.columns\n",
    "print(columns)\n",
    "df = df.drop_duplicates()\n",
    "print(df[\"quality\"].value_counts())"
   ],
   "metadata": {
    "collapsed": false,
    "pycharm": {
     "name": "#%%\n"
    }
   }
  },
  {
   "cell_type": "code",
   "execution_count": 4,
   "outputs": [],
   "source": [
    "y = df[\"quality\"].values\n",
    "X = df.drop([\"quality\",\"target\"], axis=1).values\n",
    "X_train, X_test, y_train, y_test_unnorm = train_test_split(X,y,test_size=0.2, stratify=df[\"target\"].values, shuffle=True)\n",
    "scaler = MinMaxScaler().fit(X_train)\n",
    "X_train = scaler.transform(X_train)\n",
    "X_test = scaler.transform(X_test)\n",
    "scaler_y = MinMaxScaler().fit(y_train.reshape(-1,1))\n",
    "y_train = scaler_y.transform(y_train.reshape(-1,1))\n",
    "y_test = scaler_y.transform(y_test_unnorm.reshape(-1,1))"
   ],
   "metadata": {
    "collapsed": false,
    "pycharm": {
     "name": "#%%\n"
    }
   }
  },
  {
   "cell_type": "code",
   "execution_count": 5,
   "outputs": [
    {
     "name": "stdout",
     "output_type": "stream",
     "text": [
      "Epoch 1/100\n",
      "107/107 - 1s - loss: 0.1589 - val_loss: 0.0972\n",
      "Epoch 2/100\n",
      "107/107 - 0s - loss: 0.0989 - val_loss: 0.0950\n",
      "Epoch 3/100\n",
      "107/107 - 0s - loss: 0.0979 - val_loss: 0.0947\n",
      "Epoch 4/100\n",
      "107/107 - 0s - loss: 0.0968 - val_loss: 0.0940\n",
      "Epoch 5/100\n",
      "107/107 - 0s - loss: 0.0959 - val_loss: 0.0925\n",
      "Epoch 6/100\n",
      "107/107 - 0s - loss: 0.0953 - val_loss: 0.0928\n",
      "Epoch 7/100\n",
      "107/107 - 0s - loss: 0.0953 - val_loss: 0.0914\n",
      "Epoch 8/100\n",
      "107/107 - 0s - loss: 0.0950 - val_loss: 0.0905\n",
      "Epoch 9/100\n",
      "107/107 - 0s - loss: 0.0940 - val_loss: 0.0914\n",
      "Epoch 10/100\n",
      "107/107 - 0s - loss: 0.0942 - val_loss: 0.0898\n",
      "Epoch 11/100\n",
      "107/107 - 0s - loss: 0.0942 - val_loss: 0.0894\n",
      "Epoch 12/100\n",
      "107/107 - 0s - loss: 0.0936 - val_loss: 0.0898\n",
      "Epoch 13/100\n",
      "107/107 - 0s - loss: 0.0937 - val_loss: 0.0902\n",
      "Epoch 14/100\n",
      "107/107 - 0s - loss: 0.0933 - val_loss: 0.0892\n",
      "Epoch 15/100\n",
      "107/107 - 0s - loss: 0.0932 - val_loss: 0.0901\n",
      "Epoch 16/100\n",
      "107/107 - 0s - loss: 0.0930 - val_loss: 0.0898\n",
      "Epoch 17/100\n",
      "107/107 - 0s - loss: 0.0929 - val_loss: 0.0890\n",
      "Epoch 18/100\n",
      "107/107 - 0s - loss: 0.0928 - val_loss: 0.0884\n",
      "Epoch 19/100\n",
      "107/107 - 0s - loss: 0.0919 - val_loss: 0.0885\n",
      "Epoch 20/100\n",
      "107/107 - 0s - loss: 0.0918 - val_loss: 0.0887\n",
      "Epoch 21/100\n",
      "107/107 - 0s - loss: 0.0918 - val_loss: 0.0882\n",
      "Epoch 22/100\n",
      "107/107 - 0s - loss: 0.0914 - val_loss: 0.0879\n",
      "Epoch 23/100\n",
      "107/107 - 0s - loss: 0.0915 - val_loss: 0.0878\n",
      "Epoch 24/100\n",
      "107/107 - 0s - loss: 0.0911 - val_loss: 0.0904\n",
      "Epoch 25/100\n",
      "107/107 - 0s - loss: 0.0913 - val_loss: 0.0879\n",
      "Epoch 26/100\n",
      "107/107 - 0s - loss: 0.0911 - val_loss: 0.0883\n",
      "Epoch 27/100\n",
      "107/107 - 0s - loss: 0.0913 - val_loss: 0.0889\n",
      "Epoch 28/100\n",
      "107/107 - 0s - loss: 0.0913 - val_loss: 0.0876\n",
      "Epoch 29/100\n",
      "107/107 - 0s - loss: 0.0910 - val_loss: 0.0877\n",
      "Epoch 30/100\n",
      "107/107 - 0s - loss: 0.0908 - val_loss: 0.0894\n",
      "Epoch 31/100\n",
      "107/107 - 0s - loss: 0.0911 - val_loss: 0.0880\n",
      "Epoch 32/100\n",
      "107/107 - 0s - loss: 0.0910 - val_loss: 0.0916\n",
      "Epoch 33/100\n",
      "107/107 - 0s - loss: 0.0906 - val_loss: 0.0903\n",
      "Epoch 34/100\n",
      "107/107 - 0s - loss: 0.0917 - val_loss: 0.0888\n",
      "Epoch 35/100\n",
      "107/107 - 0s - loss: 0.0910 - val_loss: 0.0887\n",
      "Epoch 36/100\n",
      "107/107 - 0s - loss: 0.0903 - val_loss: 0.0881\n",
      "Epoch 37/100\n",
      "107/107 - 0s - loss: 0.0908 - val_loss: 0.0874\n",
      "Epoch 38/100\n",
      "107/107 - 0s - loss: 0.0902 - val_loss: 0.0868\n",
      "Epoch 39/100\n",
      "107/107 - 0s - loss: 0.0902 - val_loss: 0.0882\n",
      "Epoch 40/100\n",
      "107/107 - 0s - loss: 0.0907 - val_loss: 0.0876\n",
      "Epoch 41/100\n",
      "107/107 - 0s - loss: 0.0902 - val_loss: 0.0869\n",
      "Epoch 42/100\n",
      "107/107 - 0s - loss: 0.0906 - val_loss: 0.0871\n",
      "Epoch 43/100\n",
      "107/107 - 0s - loss: 0.0899 - val_loss: 0.0872\n",
      "Epoch 44/100\n",
      "107/107 - 0s - loss: 0.0903 - val_loss: 0.0866\n",
      "Epoch 45/100\n",
      "107/107 - 0s - loss: 0.0901 - val_loss: 0.0892\n",
      "Epoch 46/100\n",
      "107/107 - 0s - loss: 0.0900 - val_loss: 0.0866\n",
      "Epoch 47/100\n",
      "107/107 - 0s - loss: 0.0902 - val_loss: 0.0867\n",
      "Epoch 48/100\n",
      "107/107 - 0s - loss: 0.0906 - val_loss: 0.0882\n",
      "Epoch 49/100\n",
      "107/107 - 0s - loss: 0.0896 - val_loss: 0.0871\n",
      "Epoch 50/100\n",
      "107/107 - 0s - loss: 0.0896 - val_loss: 0.0864\n",
      "Epoch 51/100\n",
      "107/107 - 0s - loss: 0.0895 - val_loss: 0.0891\n",
      "Epoch 52/100\n",
      "107/107 - 0s - loss: 0.0900 - val_loss: 0.0875\n",
      "Epoch 53/100\n",
      "107/107 - 0s - loss: 0.0899 - val_loss: 0.0882\n",
      "Epoch 54/100\n",
      "107/107 - 0s - loss: 0.0901 - val_loss: 0.0867\n",
      "Epoch 55/100\n",
      "107/107 - 0s - loss: 0.0905 - val_loss: 0.0869\n",
      "Epoch 56/100\n",
      "107/107 - 0s - loss: 0.0903 - val_loss: 0.0865\n",
      "Epoch 57/100\n",
      "107/107 - 0s - loss: 0.0893 - val_loss: 0.0855\n",
      "Epoch 58/100\n",
      "107/107 - 0s - loss: 0.0892 - val_loss: 0.0860\n",
      "Epoch 59/100\n",
      "107/107 - 0s - loss: 0.0895 - val_loss: 0.0875\n",
      "Epoch 60/100\n",
      "107/107 - 0s - loss: 0.0894 - val_loss: 0.0862\n",
      "Epoch 61/100\n",
      "107/107 - 0s - loss: 0.0891 - val_loss: 0.0888\n",
      "Epoch 62/100\n",
      "107/107 - 0s - loss: 0.0897 - val_loss: 0.0859\n",
      "Epoch 63/100\n",
      "107/107 - 0s - loss: 0.0892 - val_loss: 0.0857\n",
      "Epoch 64/100\n",
      "107/107 - 0s - loss: 0.0894 - val_loss: 0.0859\n",
      "Epoch 65/100\n",
      "107/107 - 0s - loss: 0.0898 - val_loss: 0.0874\n",
      "Epoch 66/100\n",
      "107/107 - 0s - loss: 0.0893 - val_loss: 0.0863\n",
      "Epoch 67/100\n",
      "107/107 - 0s - loss: 0.0901 - val_loss: 0.0932\n",
      "Epoch 68/100\n",
      "107/107 - 0s - loss: 0.0896 - val_loss: 0.0859\n",
      "Epoch 69/100\n",
      "107/107 - 0s - loss: 0.0896 - val_loss: 0.0852\n",
      "Epoch 70/100\n",
      "107/107 - 0s - loss: 0.0891 - val_loss: 0.0952\n",
      "Epoch 71/100\n",
      "107/107 - 0s - loss: 0.0904 - val_loss: 0.0852\n",
      "Epoch 72/100\n",
      "107/107 - 0s - loss: 0.0892 - val_loss: 0.0853\n",
      "Epoch 73/100\n",
      "107/107 - 0s - loss: 0.0887 - val_loss: 0.0865\n",
      "Epoch 74/100\n",
      "107/107 - 0s - loss: 0.0889 - val_loss: 0.0865\n",
      "Epoch 75/100\n",
      "107/107 - 0s - loss: 0.0885 - val_loss: 0.0848\n",
      "Epoch 76/100\n",
      "107/107 - 0s - loss: 0.0899 - val_loss: 0.0899\n",
      "Epoch 77/100\n",
      "107/107 - 0s - loss: 0.0893 - val_loss: 0.0858\n",
      "Epoch 78/100\n",
      "107/107 - 0s - loss: 0.0890 - val_loss: 0.0881\n",
      "Epoch 79/100\n",
      "107/107 - 0s - loss: 0.0888 - val_loss: 0.0852\n",
      "Epoch 80/100\n",
      "107/107 - 0s - loss: 0.0883 - val_loss: 0.0857\n",
      "Epoch 81/100\n",
      "107/107 - 0s - loss: 0.0883 - val_loss: 0.0851\n",
      "Epoch 82/100\n",
      "107/107 - 0s - loss: 0.0880 - val_loss: 0.0848\n",
      "Epoch 83/100\n",
      "107/107 - 0s - loss: 0.0884 - val_loss: 0.0849\n",
      "Epoch 84/100\n",
      "107/107 - 0s - loss: 0.0882 - val_loss: 0.0854\n",
      "Epoch 85/100\n",
      "107/107 - 0s - loss: 0.0885 - val_loss: 0.0926\n",
      "Epoch 86/100\n",
      "107/107 - 0s - loss: 0.0882 - val_loss: 0.0861\n",
      "Epoch 87/100\n",
      "107/107 - 0s - loss: 0.0884 - val_loss: 0.0850\n",
      "Epoch 88/100\n",
      "107/107 - 0s - loss: 0.0879 - val_loss: 0.0853\n",
      "Epoch 89/100\n",
      "107/107 - 0s - loss: 0.0882 - val_loss: 0.0850\n",
      "Epoch 90/100\n",
      "107/107 - 0s - loss: 0.0881 - val_loss: 0.0844\n",
      "Epoch 91/100\n",
      "107/107 - 0s - loss: 0.0879 - val_loss: 0.0854\n",
      "Epoch 92/100\n",
      "107/107 - 0s - loss: 0.0878 - val_loss: 0.0844\n",
      "Epoch 93/100\n",
      "107/107 - 0s - loss: 0.0885 - val_loss: 0.0875\n",
      "Epoch 94/100\n",
      "107/107 - 0s - loss: 0.0882 - val_loss: 0.0857\n",
      "Epoch 95/100\n",
      "107/107 - 0s - loss: 0.0881 - val_loss: 0.0882\n",
      "Epoch 96/100\n",
      "107/107 - 0s - loss: 0.0884 - val_loss: 0.0848\n",
      "Epoch 97/100\n",
      "107/107 - 0s - loss: 0.0879 - val_loss: 0.0891\n",
      "Epoch 98/100\n",
      "107/107 - 0s - loss: 0.0884 - val_loss: 0.0869\n",
      "Epoch 99/100\n",
      "107/107 - 0s - loss: 0.0883 - val_loss: 0.0843\n",
      "Epoch 100/100\n",
      "107/107 - 0s - loss: 0.0879 - val_loss: 0.0846\n"
     ]
    }
   ],
   "source": [
    "linear_model = Sequential([\n",
    "    Dense(units=8,activation=\"relu\"),\n",
    "    Dense(units=16, activation=\"relu\"),\n",
    "    Dense(units=16, activation=\"tanh\"),\n",
    "    Dense(units=1)\n",
    "])\n",
    "linear_model.compile(\n",
    "    optimizer=tf.optimizers.Adam(learning_rate=0.001),\n",
    "    loss='mean_absolute_error')\n",
    "\n",
    "history = linear_model.fit(X_train, y_train,epochs=100,\n",
    "                           verbose=2,validation_split = 0.2)"
   ],
   "metadata": {
    "collapsed": false,
    "pycharm": {
     "name": "#%%\n"
    }
   }
  },
  {
   "cell_type": "code",
   "execution_count": 6,
   "outputs": [],
   "source": [
    "linear_model.save(\"models/linear_to_2_categories_100.h5\")"
   ],
   "metadata": {
    "collapsed": false,
    "pycharm": {
     "name": "#%%\n"
    }
   }
  },
  {
   "cell_type": "code",
   "execution_count": 7,
   "outputs": [
    {
     "name": "stdout",
     "output_type": "stream",
     "text": [
      "34/34 - 0s - loss: 0.0895\n",
      "test loss_score: 0.08951015770435333\n"
     ]
    }
   ],
   "source": [
    "test_results = linear_model.evaluate(\n",
    "    X_test,\n",
    "    y_test, verbose=2)\n",
    "print(f\"test loss_score: {test_results}\")"
   ],
   "metadata": {
    "collapsed": false,
    "pycharm": {
     "name": "#%%\n"
    }
   }
  },
  {
   "cell_type": "code",
   "execution_count": 8,
   "outputs": [
    {
     "name": "stdout",
     "output_type": "stream",
     "text": [
      "Status at last epoch:\n",
      "test_score = 0.08788680285215378\n",
      "val_score  = 0.08455062657594681\n"
     ]
    },
    {
     "data": {
      "text/plain": "<Figure size 432x288 with 1 Axes>",
      "image/png": "[encoded data removed]"
     },
     "metadata": {
      "needs_background": "light"
     },
     "output_type": "display_data"
    }
   ],
   "source": [
    "plot_and_print_loss(history)"
   ],
   "metadata": {
    "collapsed": false,
    "pycharm": {
     "name": "#%%\n"
    }
   }
  },
  {
   "cell_type": "code",
   "execution_count": 9,
   "outputs": [],
   "source": [
    "y_pred = linear_model.predict(X_test)\n",
    "y_pred = scaler_y.inverse_transform(y_pred)\n",
    "y_test = scaler_y.inverse_transform(y_test)\n",
    "y_test_categorical = []\n",
    "y_pred_categorical = []\n",
    "for i, x in enumerate(y_pred):\n",
    "    pred = splitting_up_good_and_bad(round(x[0]))\n",
    "    test = splitting_up_good_and_bad(y_test[i])\n",
    "    y_pred_categorical.append(pred)\n",
    "    y_test_categorical.append(test)"
   ],
   "metadata": {
    "collapsed": false,
    "pycharm": {
     "name": "#%%\n"
    }
   }
  },
  {
   "cell_type": "code",
   "execution_count": 10,
   "outputs": [
    {
     "data": {
      "text/plain": "<Figure size 1008x1008 with 0 Axes>"
     },
     "metadata": {},
     "output_type": "display_data"
    },
    {
     "data": {
      "text/plain": "<Figure size 432x288 with 2 Axes>",
      "image/png": "[encoded data removed]"
     },
     "metadata": {},
     "output_type": "display_data"
    }
   ],
   "source": [
    "cm = confusion_matrix(y_test_categorical, y_pred_categorical)\n",
    "plot_labels = [\"bad\",\"good\"]\n",
    "plot_confusion_matrix(cm=cm, classes=plot_labels,\n",
    "                      title= \"CM, regression neural network, categorised output\")"
   ],
   "metadata": {
    "collapsed": false,
    "pycharm": {
     "name": "#%%\n"
    }
   }
  },
  {
   "cell_type": "code",
   "execution_count": 11,
   "outputs": [
    {
     "name": "stdout",
     "output_type": "stream",
     "text": [
      "              precision    recall  f1-score   support\n",
      "\n",
      "           0       0.68      0.64      0.66       398\n",
      "           1       0.79      0.82      0.81       666\n",
      "\n",
      "    accuracy                           0.75      1064\n",
      "   macro avg       0.74      0.73      0.73      1064\n",
      "weighted avg       0.75      0.75      0.75      1064\n",
      "\n"
     ]
    }
   ],
   "source": [
    "print(classification_report(y_test_categorical, y_pred_categorical))"
   ],
   "metadata": {
    "collapsed": false,
    "pycharm": {
     "name": "#%%\n"
    }
   }
  },
  {
   "cell_type": "code",
   "execution_count": 12,
   "outputs": [
    {
     "data": {
      "text/plain": "<Figure size 1008x1008 with 0 Axes>"
     },
     "metadata": {},
     "output_type": "display_data"
    },
    {
     "data": {
      "text/plain": "<Figure size 432x288 with 2 Axes>",
      "image/png": "[encoded data removed]"
     },
     "metadata": {},
     "output_type": "display_data"
    }
   ],
   "source": [
    "y_pred_classes = [round(x[0]) for x in y_pred]\n",
    "cm_classes = confusion_matrix(y_test_unnorm, y_pred_classes)\n",
    "plot_confusion_matrix(cm=cm_classes, classes=[3,4,5,6,7,8,9],\n",
    "                      title= \"Linear regression model, rounded result\")"
   ],
   "metadata": {
    "collapsed": false,
    "pycharm": {
     "name": "#%%\n"
    }
   }
  },
  {
   "cell_type": "code",
   "execution_count": 12,
   "outputs": [],
   "source": [],
   "metadata": {
    "collapsed": false,
    "pycharm": {
     "name": "#%%\n"
    }
   }
  }
 ],
 "metadata": {
  "kernelspec": {
   "display_name": "Python 3",
   "language": "python",
   "name": "python3"
  },
  "language_info": {
   "codemirror_mode": {
    "name": "ipython",
    "version": 2
   },
   "file_extension": ".py",
   "mimetype": "text/x-python",
   "name": "python",
   "nbconvert_exporter": "python",
   "pygments_lexer": "ipython2",
   "version": "2.7.6"
  }
 },
 "nbformat": 4,
 "nbformat_minor": 0
}