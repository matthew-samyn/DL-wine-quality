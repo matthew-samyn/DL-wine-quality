{
 "cells": [
  {
   "cell_type": "code",
   "execution_count": 44,
   "metadata": {
    "collapsed": true,
    "pycharm": {
     "name": "#%%\n"
    }
   },
   "outputs": [],
   "source": [
    "from sklearn.ensemble import RandomForestClassifier\n",
    "from utils.functions import *\n",
    "import pandas as pd\n",
    "import numpy as np\n",
    "from sklearn.model_selection import train_test_split\n",
    "from sklearn.preprocessing import MinMaxScaler\n",
    "from imblearn.over_sampling import SMOTE\n",
    "import pickle\n",
    "from sklearn.metrics import confusion_matrix, classification_report, accuracy_score"
   ]
  },
  {
   "cell_type": "code",
   "execution_count": 37,
   "outputs": [
    {
     "name": "stdout",
     "output_type": "stream",
     "text": [
      "       fixed acidity  volatile acidity  citric acid  residual sugar  \\\n",
      "index                                                                 \n",
      "0                7.4              0.70         0.00             1.9   \n",
      "1                7.8              0.88         0.00             2.6   \n",
      "2                7.8              0.76         0.04             2.3   \n",
      "3               11.2              0.28         0.56             1.9   \n",
      "4                7.4              0.70         0.00             1.9   \n",
      "\n",
      "       chlorides  free sulfur dioxide  total sulfur dioxide  density    pH  \\\n",
      "index                                                                        \n",
      "0          0.076                 11.0                  34.0   0.9978  3.51   \n",
      "1          0.098                 25.0                  67.0   0.9968  3.20   \n",
      "2          0.092                 15.0                  54.0   0.9970  3.26   \n",
      "3          0.075                 17.0                  60.0   0.9980  3.16   \n",
      "4          0.076                 11.0                  34.0   0.9978  3.51   \n",
      "\n",
      "       sulphates  alcohol  quality  colour  target  \n",
      "index                                               \n",
      "0           0.56      9.4        5       1       0  \n",
      "1           0.68      9.8        5       1       0  \n",
      "2           0.65      9.8        5       1       0  \n",
      "3           0.58      9.8        6       1       1  \n",
      "4           0.56      9.4        5       1       0  \n",
      "6    2323\n",
      "5    1752\n",
      "7     856\n",
      "4     206\n",
      "8     148\n",
      "3      30\n",
      "Name: quality, dtype: int64\n"
     ]
    }
   ],
   "source": [
    "df = pd.read_csv(\"assignment-files/wine.csv\", index_col=\"index\")\n",
    "columns = df.columns\n",
    "print(df.head())\n",
    "df = df.drop_duplicates()\n",
    "df = df[df[\"quality\"] != 9]\n",
    "print(df[\"quality\"].value_counts())"
   ],
   "metadata": {
    "collapsed": false,
    "pycharm": {
     "name": "#%%\n"
    }
   }
  },
  {
   "cell_type": "code",
   "execution_count": 38,
   "outputs": [],
   "source": [
    "y = df[\"target\"].values\n",
    "X = df.drop([\"quality\",\"target\"], axis=1).values\n",
    "X_train, X_test, y_train, y_test = train_test_split(X,y,test_size=0.2, stratify=y,\n",
    "                                                           shuffle=True, random_state=42)"
   ],
   "metadata": {
    "collapsed": false,
    "pycharm": {
     "name": "#%%\n"
    }
   }
  },
  {
   "cell_type": "code",
   "execution_count": 39,
   "outputs": [],
   "source": [
    "smote = SMOTE(random_state=42, k_neighbors=5)\n",
    "X_train_smote, y_train_smote = smote.fit_resample(X_train, y_train)"
   ],
   "metadata": {
    "collapsed": false,
    "pycharm": {
     "name": "#%%\n"
    }
   }
  },
  {
   "cell_type": "code",
   "execution_count": 40,
   "outputs": [],
   "source": [
    "scaler = MinMaxScaler().fit(X_train)\n",
    "X_train_smote = scaler.transform(X_train_smote)\n",
    "X_test = scaler.transform(X_test)"
   ],
   "metadata": {
    "collapsed": false,
    "pycharm": {
     "name": "#%%\n"
    }
   }
  },
  {
   "cell_type": "code",
   "execution_count": 41,
   "outputs": [],
   "source": [
    "model = RandomForestClassifier(random_state=42)\n",
    "model.fit(X_train_smote, y_train_smote)\n",
    "y_predict = model.predict(X_test)"
   ],
   "metadata": {
    "collapsed": false,
    "pycharm": {
     "name": "#%%\n"
    }
   }
  },
  {
   "cell_type": "code",
   "execution_count": 45,
   "outputs": [
    {
     "data": {
      "text/plain": "<Figure size 1008x1008 with 0 Axes>"
     },
     "metadata": {},
     "output_type": "display_data"
    },
    {
     "data": {
      "text/plain": "<Figure size 432x288 with 2 Axes>",
      "image/png": "[encoded data removed]"
     },
     "metadata": {},
     "output_type": "display_data"
    },
    {
     "name": "stdout",
     "output_type": "stream",
     "text": [
      "              precision    recall  f1-score   support\n",
      "\n",
      "           0       0.67      0.71      0.69       398\n",
      "           1       0.82      0.79      0.80       665\n",
      "\n",
      "    accuracy                           0.76      1063\n",
      "   macro avg       0.74      0.75      0.75      1063\n",
      "weighted avg       0.76      0.76      0.76      1063\n",
      "\n"
     ]
    }
   ],
   "source": [
    "cm = confusion_matrix(y_test, y_predict)\n",
    "labels = [\"bad\",\"good\"]\n",
    "plot_confusion_matrix(cm=cm, classes=labels,\n",
    "                      title= \"Random forest model\",\n",
    "                      savefig_location=\"visuals/random_forest_2_categories\")\n",
    "print(classification_report(y_test, y_predict))"
   ],
   "metadata": {
    "collapsed": false,
    "pycharm": {
     "name": "#%%\n"
    }
   }
  },
  {
   "cell_type": "code",
   "execution_count": 43,
   "outputs": [],
   "source": [
    "pickle.dump(model, open(\"models/random_forest_balanced_.sav\", 'wb'))"
   ],
   "metadata": {
    "collapsed": false,
    "pycharm": {
     "name": "#%%\n"
    }
   }
  },
  {
   "cell_type": "code",
   "execution_count": null,
   "outputs": [],
   "source": [],
   "metadata": {
    "collapsed": false,
    "pycharm": {
     "name": "#%%\n"
    }
   }
  }
 ],
 "metadata": {
  "kernelspec": {
   "display_name": "Python 3",
   "language": "python",
   "name": "python3"
  },
  "language_info": {
   "codemirror_mode": {
    "name": "ipython",
    "version": 2
   },
   "file_extension": ".py",
   "mimetype": "text/x-python",
   "name": "python",
   "nbconvert_exporter": "python",
   "pygments_lexer": "ipython2",
   "version": "2.7.6"
  }
 },
 "nbformat": 4,
 "nbformat_minor": 0
}